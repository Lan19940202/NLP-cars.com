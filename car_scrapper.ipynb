{
 "cells": [
  {
   "cell_type": "code",
   "execution_count": 1,
   "metadata": {
    "collapsed": true
   },
   "outputs": [],
   "source": [
    "import requests\n",
    "import bs4"
   ]
  },
  {
   "cell_type": "code",
   "execution_count": 2,
   "metadata": {
    "collapsed": true
   },
   "outputs": [],
   "source": [
    "def scrap_rate(url):\n",
    "    car_url=requests.get(url)\n",
    "    car_soup = bs4.BeautifulSoup(car_url.text,'lxml')\n",
    "    #get rate\n",
    "    rate_all = car_soup.select('article cars-star-rating')\n",
    "    stars=[i.text[0] for i in rate_all[0::7]]\n",
    "    return stars"
   ]
  },
  {
   "cell_type": "code",
   "execution_count": 3,
   "metadata": {
    "collapsed": true
   },
   "outputs": [],
   "source": [
    "def scrap_review(url):\n",
    "    car_url=requests.get(url)\n",
    "    car_soup = bs4.BeautifulSoup(car_url.text,'lxml')\n",
    "    #get review\n",
    "    review = car_soup.select('p.review-card-text')\n",
    "    review=[i.text.rstrip()[2:-2].lstrip() for i in review]\n",
    "    return review"
   ]
  },
  {
   "cell_type": "code",
   "execution_count": 4,
   "metadata": {
    "collapsed": true
   },
   "outputs": [],
   "source": [
    "def next_page(url):\n",
    "    car_url=requests.get(url)\n",
    "    car_soup = bs4.BeautifulSoup(car_url.text,'lxml')\n",
    "    #get tag\n",
    "    links = car_soup.find_all(\"a\", class_=\"cui-button cui-button--secondary\")\n",
    "    if links==[]:\n",
    "        return 'This is the last page'\n",
    "    else:\n",
    "        next_links=links[1].get('href')\n",
    "        next_links='https://www.cars.com'+next_links\n",
    "        return next_links"
   ]
  },
  {
   "cell_type": "code",
   "execution_count": null,
   "metadata": {
    "collapsed": true
   },
   "outputs": [],
   "source": []
  }
 ],
 "metadata": {
  "kernelspec": {
   "display_name": "Python 3",
   "language": "python",
   "name": "python3"
  },
  "language_info": {
   "codemirror_mode": {
    "name": "ipython",
    "version": 3
   },
   "file_extension": ".py",
   "mimetype": "text/x-python",
   "name": "python",
   "nbconvert_exporter": "python",
   "pygments_lexer": "ipython3",
   "version": "3.6.3"
  }
 },
 "nbformat": 4,
 "nbformat_minor": 2
}
